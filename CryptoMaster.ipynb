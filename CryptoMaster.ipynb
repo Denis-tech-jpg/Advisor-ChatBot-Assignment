{
 "cells": [
  {
   "cell_type": "code",
   "execution_count": 2,
   "id": "cc524390-bce6-4268-a148-0541c97ade81",
   "metadata": {},
   "outputs": [],
   "source": [
    "# Define the crypto dataset\n",
    "crypto_db = {\n",
    "    \"Bitcoin\": {\n",
    "        \"price_trend\": \"rising\",\n",
    "        \"market_cap\": \"high\",\n",
    "        \"energy_use\": \"high\",\n",
    "        \"sustainability_score\": 3/10\n",
    "    },\n",
    "    \"Ethereum\": {\n",
    "        \"price_trend\": \"stable\",\n",
    "        \"market_cap\": \"high\",\n",
    "        \"energy_use\": \"medium\",\n",
    "        \"sustainability_score\": 6/10\n",
    "    },\n",
    "    \"Cardano\": {\n",
    "        \"price_trend\": \"rising\",\n",
    "        \"market_cap\": \"medium\",\n",
    "        \"energy_use\": \"low\",\n",
    "        \"sustainability_score\": 8/10\n",
    "    }\n",
    "}\n",
    "\n",
    "# Define bot logic\n",
    "def crypto_advisor(user_query):\n",
    "    user_query = user_query.lower()\n",
    "\n",
    "    if \"trending\" in user_query or \"rising\" in user_query:\n",
    "        trending = [coin for coin in crypto_db if crypto_db[coin][\"price_trend\"] == \"rising\"]\n",
    "        return \"📈 These cryptos are trending up: \" + \", \".join(trending)\n",
    "    \n",
    "    elif \"sustainable\" in user_query or \"eco\" in user_query:\n",
    "        recommend = max(crypto_db, key=lambda x: crypto_db[x][\"sustainability_score\"])\n",
    "        return f\"🌱 {recommend} is the most sustainable crypto! Great for long-term and eco-conscious investors.\"\n",
    "    \n",
    "    elif \"bitcoin\" in user_query:\n",
    "        btc = crypto_db[\"Bitcoin\"]\n",
    "        return f\"💡 Bitcoin is {btc['price_trend']} with high energy use. Sustainability score: {btc['sustainability_score']*10}/10.\"\n",
    "    \n",
    "    elif \"cardano\" in user_query:\n",
    "        ada = crypto_db[\"Cardano\"]\n",
    "        return f\"🚀 Cardano is {ada['price_trend']} with low energy use. Sustainability score: {ada['sustainability_score']*10}/10.\"\n",
    "    \n",
    "    elif \"ethereum\" in user_query:\n",
    "        eth = crypto_db[\"Ethereum\"]\n",
    "        return f\"⚖️ Ethereum is {eth['price_trend']} with medium energy use. Sustainability score: {eth['sustainability_score']*10}/10.\"\n",
    "    \n",
    "    else:\n",
    "        return \"🤖 I didn’t get that. Try asking about trends, sustainability, or a specific coin.\"\n"
   ]
  },
  {
   "cell_type": "code",
   "execution_count": 3,
   "id": "71d091f4-91ed-45f1-b1c3-eb5ea1472cc4",
   "metadata": {},
   "outputs": [
    {
     "name": "stdout",
     "output_type": "stream",
     "text": [
      "🤖 CryptoBuddy: 📈 These cryptos are trending up: Bitcoin, Cardano\n"
     ]
    }
   ],
   "source": [
    "# Ask your question here\n",
    "user_query = \"Which crypto is trending up?\"\n",
    "response = crypto_advisor(user_query)\n",
    "print(\"🤖 CryptoBuddy:\", response)"
   ]
  },
  {
   "cell_type": "code",
   "execution_count": 4,
   "id": "8793eb27-7c70-4916-81bc-b3dde6676f5d",
   "metadata": {},
   "outputs": [
    {
     "name": "stdout",
     "output_type": "stream",
     "text": [
      "🤖 CryptoBuddy: 💡 Bitcoin is rising with high energy use. Sustainability score: 3.0/10.\n"
     ]
    }
   ],
   "source": [
    "# Ask your question here\n",
    "user_query = \"Tell me about Bitcoin\"\n",
    "response = crypto_advisor(user_query)\n",
    "print(\"🤖 CryptoBuddy:\", response)\n"
   ]
  },
  {
   "cell_type": "code",
   "execution_count": null,
   "id": "679d13f3-a7f0-4efc-8261-8ff228a5ce69",
   "metadata": {},
   "outputs": [],
   "source": []
  }
 ],
 "metadata": {
  "kernelspec": {
   "display_name": "anaconda-panel-2023.05-py310",
   "language": "python",
   "name": "conda-env-anaconda-panel-2023.05-py310-py"
  },
  "language_info": {
   "codemirror_mode": {
    "name": "ipython",
    "version": 3
   },
   "file_extension": ".py",
   "mimetype": "text/x-python",
   "name": "python",
   "nbconvert_exporter": "python",
   "pygments_lexer": "ipython3",
   "version": "3.11.5"
  }
 },
 "nbformat": 4,
 "nbformat_minor": 5
}
